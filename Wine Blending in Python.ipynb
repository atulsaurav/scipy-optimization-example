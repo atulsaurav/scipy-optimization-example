{
 "cells": [
  {
   "cell_type": "markdown",
   "metadata": {},
   "source": [
    "### Wine Blending in Python"
   ]
  },
  {
   "cell_type": "code",
   "execution_count": 1,
   "metadata": {},
   "outputs": [],
   "source": [
    "import numpy as np\n",
    "from scipy import optimize\n",
    "import pandas as pd"
   ]
  },
  {
   "cell_type": "code",
   "execution_count": 2,
   "metadata": {},
   "outputs": [],
   "source": [
    "vintage_costs = np.array([30, 20, 25, 15])\n",
    "vintage_supply = np.array([180, 250, 200, 400])\n",
    "blend_price = np.array([70, 40, 30])"
   ]
  },
  {
   "cell_type": "code",
   "execution_count": 3,
   "metadata": {},
   "outputs": [
    {
     "data": {
      "text/html": [
       "<div>\n",
       "<style scoped>\n",
       "    .dataframe tbody tr th:only-of-type {\n",
       "        vertical-align: middle;\n",
       "    }\n",
       "\n",
       "    .dataframe tbody tr th {\n",
       "        vertical-align: top;\n",
       "    }\n",
       "\n",
       "    .dataframe thead th {\n",
       "        text-align: right;\n",
       "    }\n",
       "</style>\n",
       "<table border=\"1\" class=\"dataframe\">\n",
       "  <thead>\n",
       "    <tr style=\"text-align: right;\">\n",
       "      <th></th>\n",
       "      <th>a</th>\n",
       "      <th>b</th>\n",
       "      <th>c</th>\n",
       "    </tr>\n",
       "  </thead>\n",
       "  <tbody>\n",
       "    <tr>\n",
       "      <th>1</th>\n",
       "      <td>1.0</td>\n",
       "      <td>1.0</td>\n",
       "      <td>1.0</td>\n",
       "    </tr>\n",
       "    <tr>\n",
       "      <th>2</th>\n",
       "      <td>1.0</td>\n",
       "      <td>1.0</td>\n",
       "      <td>1.0</td>\n",
       "    </tr>\n",
       "    <tr>\n",
       "      <th>3</th>\n",
       "      <td>1.0</td>\n",
       "      <td>1.0</td>\n",
       "      <td>1.0</td>\n",
       "    </tr>\n",
       "    <tr>\n",
       "      <th>4</th>\n",
       "      <td>1.0</td>\n",
       "      <td>1.0</td>\n",
       "      <td>1.0</td>\n",
       "    </tr>\n",
       "  </tbody>\n",
       "</table>\n",
       "</div>"
      ],
      "text/plain": [
       "     a    b    c\n",
       "1  1.0  1.0  1.0\n",
       "2  1.0  1.0  1.0\n",
       "3  1.0  1.0  1.0\n",
       "4  1.0  1.0  1.0"
      ]
     },
     "execution_count": 3,
     "metadata": {},
     "output_type": "execute_result"
    }
   ],
   "source": [
    "initial_quantity = np.ones((12,))\n",
    "pd.DataFrame(initial_quantity.reshape(4,3), index=[1,2,3,4], columns=['a', 'b', 'c'])"
   ]
  },
  {
   "cell_type": "code",
   "execution_count": 4,
   "metadata": {},
   "outputs": [],
   "source": [
    "def objective(quantity):\n",
    "    '''Objective qunction take an array of 12 quantities and returns negative profit since scipy can only minimize'''\n",
    "    q_reshaped = quantity.reshape(4,3)\n",
    "    total_sale_price = np.sum(np.dot(blend_price, q_reshaped.T))\n",
    "    total_cost_price = np.sum(np.dot(vintage_costs, q_reshaped)) \n",
    "    return total_cost_price - total_sale_price"
   ]
  },
  {
   "cell_type": "code",
   "execution_count": 5,
   "metadata": {},
   "outputs": [],
   "source": [
    "def val(q,i,j):\n",
    "    '''Helper function to access the right element of quantity array in (4,3) shape'''\n",
    "    if i == 'all':\n",
    "        return q.reshape(4,3)[:,j-1]\n",
    "    elif j == 'all':\n",
    "        return q.reshape(4,3)[i-1,:]\n",
    "    else:\n",
    "        return q.reshape(4,3)[i-1,j-1]"
   ]
  },
  {
   "cell_type": "code",
   "execution_count": 6,
   "metadata": {},
   "outputs": [],
   "source": [
    "cons1 = {'type': 'ineq', 'fun': lambda q: ( val(q,1,1) + val(q,2,1))/np.sum(val(q,'all',1)) - 0.75 }\n",
    "cons2 = {'type': 'ineq', 'fun': lambda q: 0.05 - val(q,4,1) /np.sum(val(q,'all',1)) }\n",
    "cons3 = {'type': 'ineq', 'fun': lambda q: (val(q,2,2) + val(q,3,2))/np.sum(val(q, 'all',2)) - 0.35 }\n",
    "cons4 = {'type': 'ineq', 'fun': lambda q: (val(q,1,3) + val(q,3,3))/np.sum(val(q, 'all',3)) - 0.5 }\n",
    "cons5 = {'type': 'ineq', 'fun': lambda q: 0.04 - val(q,4,3)/np.sum(val(q, 'all',3)) }\n",
    "cons6 = {'type': 'ineq', 'fun': lambda q: vintage_supply[0] - np.sum(val(q, 1, 'all')) }\n",
    "cons7 = {'type': 'ineq', 'fun': lambda q: vintage_supply[1] - np.sum(val(q, 2, 'all')) }\n",
    "cons8 = {'type': 'ineq', 'fun': lambda q: vintage_supply[2] - np.sum(val(q, 3, 'all')) }\n",
    "cons9 = {'type': 'ineq', 'fun': lambda q: vintage_supply[3] - np.sum(val(q, 4, 'all')) }\n",
    "\n",
    "cons = (cons1, cons2, cons3, cons4, cons5, cons6, cons7, cons8, cons9)"
   ]
  },
  {
   "cell_type": "code",
   "execution_count": 7,
   "metadata": {},
   "outputs": [],
   "source": [
    "b = [(0,vintage_supply[i]) for i in range(4)]\n",
    "bnds = (b[0],b[0],b[0],b[1],b[1],b[1],b[2],b[2],b[2],b[3],b[3],b[3])"
   ]
  },
  {
   "cell_type": "code",
   "execution_count": 8,
   "metadata": {},
   "outputs": [
    {
     "data": {
      "text/plain": [
       "     fun: -33274.99999578418\n",
       "     jac: array([-40., -10.,   0., -50., -20., -10., -45., -15.,  -5., -55., -25.,\n",
       "       -15.])\n",
       " message: 'Optimization terminated successfully.'\n",
       "    nfev: 449\n",
       "     nit: 32\n",
       "    njev: 31\n",
       "  status: 0\n",
       " success: True\n",
       "       x: array([1.80000000e+02, 1.80532708e-11, 5.56354229e-08, 2.28558111e+02,\n",
       "       2.14418887e+01, 4.39949925e-08, 1.81502220e+01, 1.81849778e+02,\n",
       "       3.56724895e-12, 2.24583333e+01, 3.77541667e+02, 1.12108368e-12])"
      ]
     },
     "execution_count": 8,
     "metadata": {},
     "output_type": "execute_result"
    }
   ],
   "source": [
    "solution = optimize.minimize(objective, initial_quantity.reshape(12,), method='SLSQP', constraints=cons, bounds=bnds)\n",
    "solution"
   ]
  },
  {
   "cell_type": "code",
   "execution_count": 9,
   "metadata": {},
   "outputs": [
    {
     "data": {
      "text/html": [
       "<div>\n",
       "<style scoped>\n",
       "    .dataframe tbody tr th:only-of-type {\n",
       "        vertical-align: middle;\n",
       "    }\n",
       "\n",
       "    .dataframe tbody tr th {\n",
       "        vertical-align: top;\n",
       "    }\n",
       "\n",
       "    .dataframe thead th {\n",
       "        text-align: right;\n",
       "    }\n",
       "</style>\n",
       "<table border=\"1\" class=\"dataframe\">\n",
       "  <thead>\n",
       "    <tr style=\"text-align: right;\">\n",
       "      <th></th>\n",
       "      <th>a</th>\n",
       "      <th>b</th>\n",
       "      <th>c</th>\n",
       "    </tr>\n",
       "  </thead>\n",
       "  <tbody>\n",
       "    <tr>\n",
       "      <th>1</th>\n",
       "      <td>180.000000</td>\n",
       "      <td>1.805327e-11</td>\n",
       "      <td>5.563542e-08</td>\n",
       "    </tr>\n",
       "    <tr>\n",
       "      <th>2</th>\n",
       "      <td>228.558111</td>\n",
       "      <td>2.144189e+01</td>\n",
       "      <td>4.399499e-08</td>\n",
       "    </tr>\n",
       "    <tr>\n",
       "      <th>3</th>\n",
       "      <td>18.150222</td>\n",
       "      <td>1.818498e+02</td>\n",
       "      <td>3.567249e-12</td>\n",
       "    </tr>\n",
       "    <tr>\n",
       "      <th>4</th>\n",
       "      <td>22.458333</td>\n",
       "      <td>3.775417e+02</td>\n",
       "      <td>1.121084e-12</td>\n",
       "    </tr>\n",
       "  </tbody>\n",
       "</table>\n",
       "</div>"
      ],
      "text/plain": [
       "            a             b             c\n",
       "1  180.000000  1.805327e-11  5.563542e-08\n",
       "2  228.558111  2.144189e+01  4.399499e-08\n",
       "3   18.150222  1.818498e+02  3.567249e-12\n",
       "4   22.458333  3.775417e+02  1.121084e-12"
      ]
     },
     "execution_count": 9,
     "metadata": {},
     "output_type": "execute_result"
    }
   ],
   "source": [
    "result = pd.DataFrame(solution.x.reshape(4,3), index=[1,2,3,4], columns=['a', 'b', 'c'])\n",
    "result"
   ]
  },
  {
   "cell_type": "code",
   "execution_count": 10,
   "metadata": {},
   "outputs": [
    {
     "data": {
      "text/html": [
       "<div>\n",
       "<style scoped>\n",
       "    .dataframe tbody tr th:only-of-type {\n",
       "        vertical-align: middle;\n",
       "    }\n",
       "\n",
       "    .dataframe tbody tr th {\n",
       "        vertical-align: top;\n",
       "    }\n",
       "\n",
       "    .dataframe thead th {\n",
       "        text-align: right;\n",
       "    }\n",
       "</style>\n",
       "<table border=\"1\" class=\"dataframe\">\n",
       "  <thead>\n",
       "    <tr style=\"text-align: right;\">\n",
       "      <th></th>\n",
       "      <th>a</th>\n",
       "      <th>b</th>\n",
       "      <th>c</th>\n",
       "      <th>vintage used</th>\n",
       "    </tr>\n",
       "  </thead>\n",
       "  <tbody>\n",
       "    <tr>\n",
       "      <th>1</th>\n",
       "      <td>180.000000</td>\n",
       "      <td>1.805327e-11</td>\n",
       "      <td>5.563542e-08</td>\n",
       "      <td>180.0</td>\n",
       "    </tr>\n",
       "    <tr>\n",
       "      <th>2</th>\n",
       "      <td>228.558111</td>\n",
       "      <td>2.144189e+01</td>\n",
       "      <td>4.399499e-08</td>\n",
       "      <td>250.0</td>\n",
       "    </tr>\n",
       "    <tr>\n",
       "      <th>3</th>\n",
       "      <td>18.150222</td>\n",
       "      <td>1.818498e+02</td>\n",
       "      <td>3.567249e-12</td>\n",
       "      <td>200.0</td>\n",
       "    </tr>\n",
       "    <tr>\n",
       "      <th>4</th>\n",
       "      <td>22.458333</td>\n",
       "      <td>3.775417e+02</td>\n",
       "      <td>1.121084e-12</td>\n",
       "      <td>400.0</td>\n",
       "    </tr>\n",
       "  </tbody>\n",
       "</table>\n",
       "</div>"
      ],
      "text/plain": [
       "            a             b             c  vintage used\n",
       "1  180.000000  1.805327e-11  5.563542e-08         180.0\n",
       "2  228.558111  2.144189e+01  4.399499e-08         250.0\n",
       "3   18.150222  1.818498e+02  3.567249e-12         200.0\n",
       "4   22.458333  3.775417e+02  1.121084e-12         400.0"
      ]
     },
     "execution_count": 10,
     "metadata": {},
     "output_type": "execute_result"
    }
   ],
   "source": [
    "result['vintage used'] = result.sum(axis=1)\n",
    "result"
   ]
  },
  {
   "cell_type": "code",
   "execution_count": 11,
   "metadata": {},
   "outputs": [
    {
     "name": "stdout",
     "output_type": "stream",
     "text": [
      "Profit: $33275.00\n"
     ]
    }
   ],
   "source": [
    "profit = - solution.fun\n",
    "print('Profit: $%0.2f'%profit)"
   ]
  },
  {
   "cell_type": "code",
   "execution_count": 17,
   "metadata": {},
   "outputs": [
    {
     "data": {
      "text/html": [
       "<style  type=\"text/css\" >\n",
       "</style><table id=\"T_8e047c36_39d2_11e9_a4c9_ffdd3a3477b6\" ><thead>    <tr>        <th class=\"blank level0\" ></th>        <th class=\"col_heading level0 col0\" >1</th>        <th class=\"col_heading level0 col1\" >2</th>        <th class=\"col_heading level0 col2\" >3</th>        <th class=\"col_heading level0 col3\" >4</th>    </tr></thead><tbody>\n",
       "                <tr>\n",
       "                        <th id=\"T_8e047c36_39d2_11e9_a4c9_ffdd3a3477b6level0_row0\" class=\"row_heading level0 row0\" >a</th>\n",
       "                        <td id=\"T_8e047c36_39d2_11e9_a4c9_ffdd3a3477b6row0_col0\" class=\"data row0 col0\" >180.00</td>\n",
       "                        <td id=\"T_8e047c36_39d2_11e9_a4c9_ffdd3a3477b6row0_col1\" class=\"data row0 col1\" >228.56</td>\n",
       "                        <td id=\"T_8e047c36_39d2_11e9_a4c9_ffdd3a3477b6row0_col2\" class=\"data row0 col2\" >18.15</td>\n",
       "                        <td id=\"T_8e047c36_39d2_11e9_a4c9_ffdd3a3477b6row0_col3\" class=\"data row0 col3\" >22.46</td>\n",
       "            </tr>\n",
       "            <tr>\n",
       "                        <th id=\"T_8e047c36_39d2_11e9_a4c9_ffdd3a3477b6level0_row1\" class=\"row_heading level0 row1\" >b</th>\n",
       "                        <td id=\"T_8e047c36_39d2_11e9_a4c9_ffdd3a3477b6row1_col0\" class=\"data row1 col0\" >0.00</td>\n",
       "                        <td id=\"T_8e047c36_39d2_11e9_a4c9_ffdd3a3477b6row1_col1\" class=\"data row1 col1\" >21.44</td>\n",
       "                        <td id=\"T_8e047c36_39d2_11e9_a4c9_ffdd3a3477b6row1_col2\" class=\"data row1 col2\" >181.85</td>\n",
       "                        <td id=\"T_8e047c36_39d2_11e9_a4c9_ffdd3a3477b6row1_col3\" class=\"data row1 col3\" >377.54</td>\n",
       "            </tr>\n",
       "            <tr>\n",
       "                        <th id=\"T_8e047c36_39d2_11e9_a4c9_ffdd3a3477b6level0_row2\" class=\"row_heading level0 row2\" >c</th>\n",
       "                        <td id=\"T_8e047c36_39d2_11e9_a4c9_ffdd3a3477b6row2_col0\" class=\"data row2 col0\" >0.00</td>\n",
       "                        <td id=\"T_8e047c36_39d2_11e9_a4c9_ffdd3a3477b6row2_col1\" class=\"data row2 col1\" >0.00</td>\n",
       "                        <td id=\"T_8e047c36_39d2_11e9_a4c9_ffdd3a3477b6row2_col2\" class=\"data row2 col2\" >0.00</td>\n",
       "                        <td id=\"T_8e047c36_39d2_11e9_a4c9_ffdd3a3477b6row2_col3\" class=\"data row2 col3\" >0.00</td>\n",
       "            </tr>\n",
       "            <tr>\n",
       "                        <th id=\"T_8e047c36_39d2_11e9_a4c9_ffdd3a3477b6level0_row3\" class=\"row_heading level0 row3\" >vintage used</th>\n",
       "                        <td id=\"T_8e047c36_39d2_11e9_a4c9_ffdd3a3477b6row3_col0\" class=\"data row3 col0\" >180.00</td>\n",
       "                        <td id=\"T_8e047c36_39d2_11e9_a4c9_ffdd3a3477b6row3_col1\" class=\"data row3 col1\" >250.00</td>\n",
       "                        <td id=\"T_8e047c36_39d2_11e9_a4c9_ffdd3a3477b6row3_col2\" class=\"data row3 col2\" >200.00</td>\n",
       "                        <td id=\"T_8e047c36_39d2_11e9_a4c9_ffdd3a3477b6row3_col3\" class=\"data row3 col3\" >400.00</td>\n",
       "            </tr>\n",
       "    </tbody></table>"
      ],
      "text/plain": [
       "<pandas.io.formats.style.Styler at 0x7f77aec4ce10>"
      ]
     },
     "execution_count": 17,
     "metadata": {},
     "output_type": "execute_result"
    }
   ],
   "source": [
    "result.T.style.format(\"{:.2f}\")"
   ]
  },
  {
   "cell_type": "code",
   "execution_count": 18,
   "metadata": {},
   "outputs": [
    {
     "data": {
      "text/plain": [
       "Int64Index([1, 2, 3, 4], dtype='int64')"
      ]
     },
     "execution_count": 18,
     "metadata": {},
     "output_type": "execute_result"
    }
   ],
   "source": [
    "result.index"
   ]
  },
  {
   "cell_type": "code",
   "execution_count": 22,
   "metadata": {},
   "outputs": [
    {
     "data": {
      "text/plain": [
       "{'a': {1: 179.99999994442314,\n",
       "  2: 228.55811128857815,\n",
       "  3: 18.150221998044486,\n",
       "  4: 22.45833332804088},\n",
       " 'b': {1: 1.805327083558419e-11,\n",
       "  2: 21.441888667557794,\n",
       "  3: 181.84977800205994,\n",
       "  4: 377.5416666720752},\n",
       " 'c': {1: 5.5635422854490785e-08,\n",
       "  2: 4.399499248748095e-08,\n",
       "  3: 3.5672489511380555e-12,\n",
       "  4: 1.1210836803601671e-12},\n",
       " 'vintage used': {1: 180.0000000000766,\n",
       "  2: 250.00000000013094,\n",
       "  3: 200.000000000108,\n",
       "  4: 400.0000000001172}}"
      ]
     },
     "execution_count": 22,
     "metadata": {},
     "output_type": "execute_result"
    }
   ],
   "source": [
    "result.to_dict()"
   ]
  },
  {
   "cell_type": "code",
   "execution_count": 23,
   "metadata": {},
   "outputs": [],
   "source": [
    "loc = pd.DataFrame({'lat':[1,2,3,4,5], 'long':[3,4,5,6,7]}, index=[chr(_) for _ in range(65,70)])"
   ]
  },
  {
   "cell_type": "code",
   "execution_count": 24,
   "metadata": {},
   "outputs": [
    {
     "data": {
      "text/html": [
       "<div>\n",
       "<style scoped>\n",
       "    .dataframe tbody tr th:only-of-type {\n",
       "        vertical-align: middle;\n",
       "    }\n",
       "\n",
       "    .dataframe tbody tr th {\n",
       "        vertical-align: top;\n",
       "    }\n",
       "\n",
       "    .dataframe thead th {\n",
       "        text-align: right;\n",
       "    }\n",
       "</style>\n",
       "<table border=\"1\" class=\"dataframe\">\n",
       "  <thead>\n",
       "    <tr style=\"text-align: right;\">\n",
       "      <th></th>\n",
       "      <th>lat</th>\n",
       "      <th>long</th>\n",
       "    </tr>\n",
       "  </thead>\n",
       "  <tbody>\n",
       "    <tr>\n",
       "      <th>A</th>\n",
       "      <td>1</td>\n",
       "      <td>3</td>\n",
       "    </tr>\n",
       "    <tr>\n",
       "      <th>B</th>\n",
       "      <td>2</td>\n",
       "      <td>4</td>\n",
       "    </tr>\n",
       "    <tr>\n",
       "      <th>C</th>\n",
       "      <td>3</td>\n",
       "      <td>5</td>\n",
       "    </tr>\n",
       "    <tr>\n",
       "      <th>D</th>\n",
       "      <td>4</td>\n",
       "      <td>6</td>\n",
       "    </tr>\n",
       "    <tr>\n",
       "      <th>E</th>\n",
       "      <td>5</td>\n",
       "      <td>7</td>\n",
       "    </tr>\n",
       "  </tbody>\n",
       "</table>\n",
       "</div>"
      ],
      "text/plain": [
       "   lat  long\n",
       "A    1     3\n",
       "B    2     4\n",
       "C    3     5\n",
       "D    4     6\n",
       "E    5     7"
      ]
     },
     "execution_count": 24,
     "metadata": {},
     "output_type": "execute_result"
    }
   ],
   "source": [
    "loc"
   ]
  },
  {
   "cell_type": "code",
   "execution_count": 46,
   "metadata": {},
   "outputs": [],
   "source": [
    "it = loc.iterrows()"
   ]
  },
  {
   "cell_type": "code",
   "execution_count": 47,
   "metadata": {},
   "outputs": [],
   "source": [
    "locations = {}\n",
    "for l in it:\n",
    "    locations[l[0]] = (l[1].lat, l[1].long)"
   ]
  },
  {
   "cell_type": "code",
   "execution_count": 62,
   "metadata": {},
   "outputs": [
    {
     "data": {
      "text/plain": [
       "[[5, 10, 16, 10, 9],\n",
       " [12, 2, 10, 12, 10],\n",
       " [0, 9, 1, 3, 14],\n",
       " [5, 9, 7, 6, 18],\n",
       " [13, 10, 7, 5, 7]]"
      ]
     },
     "execution_count": 62,
     "metadata": {},
     "output_type": "execute_result"
    }
   ],
   "source": [
    "mat = []\n",
    "for loc_a in locations:\n",
    "    row = []\n",
    "    for loc_b in locations:\n",
    "        distance = haversine(loc_a, loc_b, unit='mi')\n",
    "        row.append(distance)\n",
    "    mat.append(row) \n",
    "mat"
   ]
  },
  {
   "cell_type": "code",
   "execution_count": 63,
   "metadata": {},
   "outputs": [
    {
     "data": {
      "text/html": [
       "<div>\n",
       "<style scoped>\n",
       "    .dataframe tbody tr th:only-of-type {\n",
       "        vertical-align: middle;\n",
       "    }\n",
       "\n",
       "    .dataframe tbody tr th {\n",
       "        vertical-align: top;\n",
       "    }\n",
       "\n",
       "    .dataframe thead th {\n",
       "        text-align: right;\n",
       "    }\n",
       "</style>\n",
       "<table border=\"1\" class=\"dataframe\">\n",
       "  <thead>\n",
       "    <tr style=\"text-align: right;\">\n",
       "      <th></th>\n",
       "      <th>A</th>\n",
       "      <th>B</th>\n",
       "      <th>C</th>\n",
       "      <th>D</th>\n",
       "      <th>E</th>\n",
       "    </tr>\n",
       "  </thead>\n",
       "  <tbody>\n",
       "    <tr>\n",
       "      <th>A</th>\n",
       "      <td>5</td>\n",
       "      <td>10</td>\n",
       "      <td>16</td>\n",
       "      <td>10</td>\n",
       "      <td>9</td>\n",
       "    </tr>\n",
       "    <tr>\n",
       "      <th>B</th>\n",
       "      <td>12</td>\n",
       "      <td>2</td>\n",
       "      <td>10</td>\n",
       "      <td>12</td>\n",
       "      <td>10</td>\n",
       "    </tr>\n",
       "    <tr>\n",
       "      <th>C</th>\n",
       "      <td>0</td>\n",
       "      <td>9</td>\n",
       "      <td>1</td>\n",
       "      <td>3</td>\n",
       "      <td>14</td>\n",
       "    </tr>\n",
       "    <tr>\n",
       "      <th>D</th>\n",
       "      <td>5</td>\n",
       "      <td>9</td>\n",
       "      <td>7</td>\n",
       "      <td>6</td>\n",
       "      <td>18</td>\n",
       "    </tr>\n",
       "    <tr>\n",
       "      <th>E</th>\n",
       "      <td>13</td>\n",
       "      <td>10</td>\n",
       "      <td>7</td>\n",
       "      <td>5</td>\n",
       "      <td>7</td>\n",
       "    </tr>\n",
       "  </tbody>\n",
       "</table>\n",
       "</div>"
      ],
      "text/plain": [
       "    A   B   C   D   E\n",
       "A   5  10  16  10   9\n",
       "B  12   2  10  12  10\n",
       "C   0   9   1   3  14\n",
       "D   5   9   7   6  18\n",
       "E  13  10   7   5   7"
      ]
     },
     "execution_count": 63,
     "metadata": {},
     "output_type": "execute_result"
    }
   ],
   "source": [
    "pd.DataFrame(mat, index=locations.keys(), columns=locations.keys())"
   ]
  }
 ],
 "metadata": {
  "kernelspec": {
   "display_name": "Python 3",
   "language": "python",
   "name": "python3"
  },
  "language_info": {
   "codemirror_mode": {
    "name": "ipython",
    "version": 3
   },
   "file_extension": ".py",
   "mimetype": "text/x-python",
   "name": "python",
   "nbconvert_exporter": "python",
   "pygments_lexer": "ipython3",
   "version": "3.6.8"
  }
 },
 "nbformat": 4,
 "nbformat_minor": 2
}
